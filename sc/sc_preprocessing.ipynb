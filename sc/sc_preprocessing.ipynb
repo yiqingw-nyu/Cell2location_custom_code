{
 "cells": [
  {
   "cell_type": "markdown",
   "metadata": {},
   "source": [
    "This script performs proprocessing and filtering of the single cell reference data.\n",
    "\n",
    "**Author:** Yiqing Wang\n",
    "\n",
    "**Date:** 2024-6-15\n",
    "\n",
    "INPUT: untransformed, unnormalized single cell AnnData\n",
    "\n",
    "OUTPUT: single cell data after gene filtering"
   ]
  },
  {
   "cell_type": "code",
   "execution_count": null,
   "metadata": {},
   "outputs": [],
   "source": [
    "import os\n",
    "import scanpy as sc\n",
    "import numpy as np\n",
    "import cell2location"
   ]
  },
  {
   "cell_type": "code",
   "execution_count": null,
   "metadata": {},
   "outputs": [],
   "source": [
    "from matplotlib import rcParams\n",
    "\n",
    "rcParams[\"pdf.fonttype\"] = 42 # ensures correct plotting of text for PDFs"
   ]
  },
  {
   "cell_type": "code",
   "execution_count": null,
   "metadata": {},
   "outputs": [],
   "source": [
    "dir = \"path/to/data/\"\n",
    "os.chdir(dir)\n",
    "results_folder = \"./test_results/\"\n",
    "ref_run_name = f\"{results_folder}/run_name\""
   ]
  },
  {
   "cell_type": "markdown",
   "metadata": {},
   "source": [
    "1. Loading single cell data"
   ]
  },
  {
   "cell_type": "code",
   "execution_count": null,
   "metadata": {},
   "outputs": [],
   "source": [
    "adata_ref = sc.read(\n",
    "    f\"{results_folder}/reference_file.h5ad\",\n",
    ")\n",
    "\n",
    "print(\"reference data loaded\")\n",
    "\n",
    "print(f\"Number of cells in reference data: {adata_ref.shape[0]}\")\n",
    "print(f\"Number of genes in reference data: {adata_ref.shape[1]}\")\n",
    "\n",
    "print(np.max(adata_ref.X)) # check maximum value in the data"
   ]
  },
  {
   "cell_type": "markdown",
   "metadata": {},
   "source": [
    "2. Preprocessing"
   ]
  },
  {
   "cell_type": "markdown",
   "metadata": {},
   "source": [
    "Since the max is ~8, the data is log-transformed.\n",
    "We need to copy adata_ref.raw.X, which stores raw counts, to adata_ref.X."
   ]
  },
  {
   "cell_type": "code",
   "execution_count": null,
   "metadata": {},
   "outputs": [],
   "source": [
    "adata_ref.X = adata_ref.raw.X.copy()\n",
    "\n",
    "# delete raw attribute after copying\n",
    "del adata_ref.raw"
   ]
  },
  {
   "cell_type": "markdown",
   "metadata": {},
   "source": [
    "For the attributes of the AnnData object, .obs stores cell info, .var stores gene symbols, and .obsm stores additional cell info, such as UMAP embeddings."
   ]
  },
  {
   "cell_type": "code",
   "execution_count": null,
   "metadata": {},
   "outputs": [],
   "source": [
    "# Check the number of cells with no annotation\n",
    "# The cells with no annotation need to be removed.\n",
    "cell_no_anno = sum(adata_ref.obs[\"label\"] == \"NA\")\n",
    "print(f\"Number of cells with no annotation: {cell_no_anno}\")"
   ]
  },
  {
   "cell_type": "markdown",
   "metadata": {},
   "source": [
    "The tutorial sets the gene IDs as row names of adata_ref.var, but since the data used here did not have gene ID info, gene symbols were kept as row names, and the code ran fine.\n",
    "\n",
    "It is important that the gene names are consistent between the single cell data and the spatial data. In other words, the row names of adata_ref.var and the row names of adata_vis.var should be the same."
   ]
  },
  {
   "cell_type": "markdown",
   "metadata": {},
   "source": [
    "Next we check the number of cells with zero counts in all genes.\n",
    "If there are cells with zero counts in all genes, they need to be removed."
   ]
  },
  {
   "cell_type": "code",
   "execution_count": null,
   "metadata": {},
   "outputs": [],
   "source": [
    "# Check the number of cells with zero counts in all genes\n",
    "\n",
    "adata_ref.obs[\"n_genes\"] = (adata_ref.X > 0).sum(1)\n",
    "ncells_with_0_genes = (adata_ref.obs[\"n_genes\"] == 0).sum()\n",
    "print(f\"Number of cells with 0 genes detected: {ncells_with_0_genes}\")"
   ]
  },
  {
   "cell_type": "markdown",
   "metadata": {},
   "source": [
    "3. Gene filtering\n",
    "\n",
    "1) cell_count_cutoff: genes that are expressed in at least this number of cells\n",
    "2) cell_percentage_cutoff2: genes that are expressed in at least this percentage of cells\n",
    "3) nonz_mean_cutoff: genes that have mean expression of at least this value in nonzero cells\n",
    "\n",
    "filtering logic: 2 OR (1 AND 3)\n",
    "\n",
    "The cutoff values can be customized according to the dataset."
   ]
  },
  {
   "cell_type": "code",
   "execution_count": null,
   "metadata": {},
   "outputs": [],
   "source": [
    "print(f\"Number of genes in reference data before filtering: {adata_ref.shape[1]}\")\n",
    "\n",
    "from cell2location.utils.filtering import filter_genes\n",
    "\n",
    "selected = filter_genes(\n",
    "    adata_ref, cell_count_cutoff=5, cell_percentage_cutoff2=0.03, nonz_mean_cutoff=1.12\n",
    ")\n",
    "\n",
    "adata_ref = adata_ref[:, selected].copy()\n",
    "\n",
    "print(f\"Number of genes in reference data after filtering: {adata_ref.shape[1]}\")"
   ]
  },
  {
   "cell_type": "code",
   "execution_count": null,
   "metadata": {},
   "outputs": [],
   "source": [
    "# Write the filtered single cell AnnData to file\n",
    "adata_ref.write(f\"{ref_run_name}/adata_ref_filtered.h5ad\")"
   ]
  }
 ],
 "metadata": {
  "kernelspec": {
   "display_name": "cell2location_githubVersion_test",
   "language": "python",
   "name": "python3"
  },
  "language_info": {
   "name": "python",
   "version": "3.10.14"
  }
 },
 "nbformat": 4,
 "nbformat_minor": 2
}
