{
 "cells": [
  {
   "cell_type": "markdown",
   "metadata": {},
   "source": [
    "This script aims to use the hard-coded cluster average method for computing cell type expression signatures, to compare against the negative binomial regression model method.\n",
    "\n",
    "**Author:** Yiqing Wang\n",
    "\n",
    "**Date:** 2024-8-3\n",
    "\n",
    "INPUT: \n",
    "1) filtered single cell data (AnnData)\n",
    "2) (optional) CSV of model-estimated cell type signatures\n",
    "\n",
    "OUTPUT: \n",
    "1) hard-coded average expression of every gene in every cell type\n",
    "2) (optional) scatter plot showing correlation between average expression of every gene in every cell type and model-estimated expression of every gene in every cell type"
   ]
  },
  {
   "cell_type": "markdown",
   "metadata": {},
   "source": [
    "1. Loading packages"
   ]
  },
  {
   "cell_type": "code",
   "execution_count": 1,
   "metadata": {},
   "outputs": [],
   "source": [
    "import os\n",
    "import scanpy as sc\n",
    "import cell2location.cluster_averages"
   ]
  },
  {
   "cell_type": "markdown",
   "metadata": {},
   "source": [
    "Additional packages used in validation (optional):"
   ]
  },
  {
   "cell_type": "code",
   "execution_count": 2,
   "metadata": {},
   "outputs": [],
   "source": [
    "import pandas as pd\n",
    "import matplotlib.pyplot as plt\n",
    "import numpy as np"
   ]
  },
  {
   "cell_type": "markdown",
   "metadata": {},
   "source": [
    "2. Loading filtered single cell data (AnnData object)"
   ]
  },
  {
   "cell_type": "code",
   "execution_count": 3,
   "metadata": {},
   "outputs": [],
   "source": [
    "dir = \"path/to/data/test_results/run_name\"\n",
    "os.chdir(dir)\n",
    "results_folder = \"./hard_code_average\""
   ]
  },
  {
   "cell_type": "code",
   "execution_count": 4,
   "metadata": {},
   "outputs": [],
   "source": [
    "# Load filtered Anndata, produced by sc_preprocessing.ipynb\n",
    "adata_ref = sc.read_h5ad(f\"{dir}/adata_ref_filtered.h5ad\")"
   ]
  },
  {
   "cell_type": "code",
   "execution_count": null,
   "metadata": {},
   "outputs": [],
   "source": [
    "# Inspect cell metadata columns\n",
    "print(adata_ref.obs.columns)\n",
    "\n",
    "# Inspect if a raw attribute or any additional layers exist\n",
    "# If not, we can assume that adata_ref.X contains (filtered) raw data.\n",
    "print(adata_ref.raw is None)\n",
    "print(len(adata_ref.layers))"
   ]
  },
  {
   "cell_type": "markdown",
   "metadata": {},
   "source": [
    "The \"label\" column contains cell type information (this can be confirmed by checking its content).\n",
    "\n",
    "There is no raw slot;\n",
    "there are no layers either."
   ]
  },
  {
   "cell_type": "markdown",
   "metadata": {},
   "source": [
    "3. Using hard-coded average method to compute average expression of every gene in every cell type"
   ]
  },
  {
   "cell_type": "code",
   "execution_count": 5,
   "metadata": {},
   "outputs": [],
   "source": [
    "\n",
    "# Use Cell2location's hard-coded average function to compute cell type averages of genes\n",
    "aver = cell2location.cluster_averages.cluster_averages.compute_cluster_averages(\n",
    "    adata=adata_ref, labels=\"label\", use_raw=False, layer=None\n",
    "    )"
   ]
  },
  {
   "cell_type": "code",
   "execution_count": 23,
   "metadata": {},
   "outputs": [],
   "source": [
    "# Save results to CSV\n",
    "aver.to_csv(f\"{results_folder}/hard_code_aver.csv\")"
   ]
  },
  {
   "cell_type": "markdown",
   "metadata": {},
   "source": [
    "4. (Optional) comparing average expression of every gene in every cell type with the model-estimated expression of every gene in every cell type.\n",
    "\n",
    "This section is for validation purposes only. It makes a scatter plot to compare cell type signatures computed by hard-coded averages and NB regression model, similar to the second plot made by Cell2location's plot_QC() method."
   ]
  },
  {
   "cell_type": "code",
   "execution_count": 6,
   "metadata": {},
   "outputs": [],
   "source": [
    "# Read model-estimated cell type expression signatures\n",
    "inf_aver = pd.read_csv(f\"{dir}/inf_aver.csv\", index_col=0)\n",
    "\n",
    "# Melt the data columns of the data frames (to a single column) for plotting\n",
    "aver_melted = aver.reset_index().melt(id_vars=['index'], var_name='cell_type', value_name='value')\n",
    "inf_aver_melted = inf_aver.reset_index().melt(id_vars=['index'], var_name='cell_type', value_name='value')"
   ]
  },
  {
   "cell_type": "code",
   "execution_count": null,
   "metadata": {},
   "outputs": [],
   "source": [
    "# Make a scatter plot of the hard-coded average vs. the NB model, for all cell types\n",
    "\n",
    "# Calculate the Pearson correlation coefficient\n",
    "# Since average expressions in aver_melted include zeros, a small constant is added to avoid log(0).\n",
    "correlation_coefficient = np.corrcoef(np.log10(aver_melted[\"value\"] + 0.01), \n",
    "                                      np.log10(inf_aver_melted[\"value\"]))[0, 1]\n",
    "\n",
    "# Create a scatter plot\n",
    "plt.scatter(np.log10(aver_melted[\"value\"] + 0.01), np.log10(inf_aver_melted[\"value\"]), \n",
    "            color = \"blue\", alpha = 0.5)\n",
    "\n",
    "# Add the correlation coefficient as text on the plot\n",
    "plt.text(0.05, 0.95, f'Pearson r = {correlation_coefficient:.2f}', \n",
    "         transform=plt.gca().transAxes, fontsize=12, verticalalignment='top', color='red')\n",
    "\n",
    "# Add labels and title\n",
    "plt.xlabel('hard-coded average')\n",
    "plt.ylabel('NB model')\n",
    "plt.title('Hard-coded Average vs. NB Model Cell Type Signatures')\n",
    "\n",
    "# Save the plot\n",
    "plt.savefig(f\"{results_folder}/scatter_hard-code_average_vs_NB_signatures.png\", dpi=300)\n",
    "\n",
    "# Show the plot\n",
    "plt.show()\n",
    "\n",
    "# Close the current figure\n",
    "plt.close()"
   ]
  },
  {
   "cell_type": "markdown",
   "metadata": {},
   "source": [
    "The correlation is very high, indicating high similarity between the results of the two methods, which further indicates the lack of batch effect in the single cell reference data. "
   ]
  },
  {
   "cell_type": "markdown",
   "metadata": {},
   "source": [
    "Next, I wanted to check the correlation between the hard-coded average of every gene and the model-estimated expression of every gene, for a specific cell type only."
   ]
  },
  {
   "cell_type": "code",
   "execution_count": null,
   "metadata": {},
   "outputs": [],
   "source": [
    "# Make a scatter plot of the hard-coded average vs. the NB model, for a specific cell type\n",
    "\n",
    "ct = \"Oligo\"\n",
    "\n",
    "# Calculate the Pearson correlation coefficient\n",
    "correlation_coefficient_ct = np.corrcoef(np.log10(aver[ct] + 0.01), \n",
    "                                         np.log10(inf_aver[ct]))[0, 1]\n",
    "\n",
    "# Create a scatter plot\n",
    "plt.scatter(np.log10(aver[ct] + 0.01), np.log10(inf_aver[ct]), color = \"blue\", alpha = 0.5)\n",
    "\n",
    "# Add the correlation coefficient as text on the plot\n",
    "plt.text(0.05, 0.95, f'Pearson r = {correlation_coefficient_ct:.2f}', \n",
    "         transform=plt.gca().transAxes, fontsize=12, verticalalignment='top', color='red')\n",
    "\n",
    "# Add labels and title\n",
    "plt.xlabel('hard-coded average')\n",
    "plt.ylabel('NB model')\n",
    "plt.title(f\"Hard-coded Average vs. NB Model Cell Type Signatures: {ct}\")\n",
    "\n",
    "# Save the plot\n",
    "plt.savefig(f\"{results_folder}/scatter_{ct}_hard-code_average_vs_NB_signatures.png\", dpi=300)\n",
    "\n",
    "# Show the plot\n",
    "plt.show()\n",
    "\n",
    "# Close the current figure\n",
    "plt.close()"
   ]
  },
  {
   "cell_type": "markdown",
   "metadata": {},
   "source": [
    "For oligodendrocytes, the similarity between hard-coded average and model-estimated expression levels is even more prominent."
   ]
  }
 ],
 "metadata": {
  "kernelspec": {
   "display_name": "cell2location_githubVersion_test",
   "language": "python",
   "name": "python3"
  },
  "language_info": {
   "codemirror_mode": {
    "name": "ipython",
    "version": 3
   },
   "file_extension": ".py",
   "mimetype": "text/x-python",
   "name": "python",
   "nbconvert_exporter": "python",
   "pygments_lexer": "ipython3",
   "version": "3.10.14"
  }
 },
 "nbformat": 4,
 "nbformat_minor": 2
}
