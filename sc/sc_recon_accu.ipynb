{
 "cells": [
  {
   "cell_type": "markdown",
   "metadata": {},
   "source": [
    "This script makes additional QC plots for the NB regression model for estimating cell type signatures, by running the plot_QC() function.\n",
    "\n",
    "**Author:** Yiqing Wang\n",
    "**Date:** 2024-7-27\n",
    "\n",
    "INPUT:\n",
    "1) NB regression model\n",
    "2) Single cell data (AnnData) with estimated cell type signatures\n",
    "\n",
    "OUTPUT: model QC plots\n",
    "1) Reconstruction accuracy\n",
    "2) Average expression of every gene in every cell type vs. model-estimated expression of every gene in every cell type"
   ]
  },
  {
   "cell_type": "code",
   "execution_count": 10,
   "metadata": {},
   "outputs": [],
   "source": [
    "import scanpy as sc\n",
    "import cell2location\n",
    "import matplotlib.pyplot as plt"
   ]
  },
  {
   "cell_type": "markdown",
   "metadata": {},
   "source": [
    "1. Loading the trained model and the single cell data (an AnnData object)"
   ]
  },
  {
   "cell_type": "code",
   "execution_count": 4,
   "metadata": {},
   "outputs": [],
   "source": [
    "dir = \"path/to/data\"\n",
    "ref_run_name = f\"{dir}/test_results/run_name\""
   ]
  },
  {
   "cell_type": "code",
   "execution_count": null,
   "metadata": {},
   "outputs": [],
   "source": [
    "# Read single cell AnnData and load trained model\n",
    "adata_file = f\"{ref_run_name}/sc_trained.h5ad\"\n",
    "adata_ref = sc.read_h5ad(adata_file)\n",
    "mod = cell2location.models.RegressionModel.load(f\"{ref_run_name}\", adata_ref)"
   ]
  },
  {
   "cell_type": "markdown",
   "metadata": {},
   "source": [
    "2. Summarizing posterior distributions and exporting estimated cell type signatures to AnnData\n",
    "\n",
    "Please note that export_posterior() needs to be run again, even though it has been run after model training in hpc_sc_regression.py.\n",
    "Otherwise, mod.plot_QC() would return an error."
   ]
  },
  {
   "cell_type": "code",
   "execution_count": null,
   "metadata": {},
   "outputs": [],
   "source": [
    "adata_ref = mod.export_posterior(\n",
    "    adata_ref, sample_kwargs={\"num_samples\": 1000, \"batch_size\": 2048}\n",
    ")"
   ]
  },
  {
   "cell_type": "markdown",
   "metadata": {},
   "source": [
    "3. Making model QC plots\n",
    "\n",
    "- Reconstruction Accuracy: observed RNA counts vs. posterior expected values of RNA counts estimated by the model\n",
    "- Second plot: the average expression of every gene in every cell type vs. the model-estimated expression of every gene in every cell type\n",
    "\n",
    "Note: since the function call makes two plots, I have not figured out a way to save the two plots using plt.savefig(). Currently, they need to be saved manually."
   ]
  },
  {
   "cell_type": "code",
   "execution_count": null,
   "metadata": {},
   "outputs": [],
   "source": [
    "mod.plot_QC()"
   ]
  }
 ],
 "metadata": {
  "kernelspec": {
   "display_name": "cell2location_githubVersion_test",
   "language": "python",
   "name": "python3"
  },
  "language_info": {
   "codemirror_mode": {
    "name": "ipython",
    "version": 3
   },
   "file_extension": ".py",
   "mimetype": "text/x-python",
   "name": "python",
   "nbconvert_exporter": "python",
   "pygments_lexer": "ipython3",
   "version": "3.10.14"
  }
 },
 "nbformat": 4,
 "nbformat_minor": 2
}
