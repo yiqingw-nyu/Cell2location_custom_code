{
 "cells": [
  {
   "cell_type": "markdown",
   "metadata": {},
   "source": [
    "This script plots the estimated cell abundance of cell types across tissue (for one sample). Each cell type has a individual subplot. \n",
    "\n",
    "It is set up so that all immune cell types are shown together, and endothelial and micro-PVM are shown together. \n",
    "\n",
    "Regarding the color scale of subplots, there are three options:\n",
    "1) Each subplot has its own color scale.\n",
    "2) All subplots (cell types) on one plot have the same color scale, but this scale differs from sample to sample.\n",
    "3) All subplots (cell types) on one plot have the same color scale, and all samples have the same color scale. In this case, the color scale is manually set.\n",
    "\n",
    "**Author:** Yiqing Wang\n",
    "\n",
    "**Date:** 2024-6-25\n",
    "\n",
    "INPUT: spatially mapped AnnData\n",
    "\n",
    "OUTPUT: plot of spatial abundance of selected cell types of one sample"
   ]
  },
  {
   "cell_type": "markdown",
   "metadata": {},
   "source": [
    "1. Import libraries"
   ]
  },
  {
   "cell_type": "code",
   "execution_count": null,
   "metadata": {},
   "outputs": [],
   "source": [
    "import os\n",
    "import scanpy as sc\n",
    "import matplotlib as mpl\n",
    "from cell2location.utils import select_slide\n",
    "import numpy as np"
   ]
  },
  {
   "cell_type": "markdown",
   "metadata": {},
   "source": [
    "2. Read spatially mapped AnnData object"
   ]
  },
  {
   "cell_type": "code",
   "execution_count": null,
   "metadata": {},
   "outputs": [],
   "source": [
    "dir = \"path/to/data\"\n",
    "os.chdir(dir)\n",
    "results_folder = \"./test_results/\"\n",
    "sample = \"D1\"\n",
    "run_name = f\"{results_folder}/{sample}_run_name/\"\n",
    "\n",
    "adata_file = f\"{run_name}/sp_mapped.h5ad\"\n",
    "adata_vis = sc.read_h5ad(adata_file)"
   ]
  },
  {
   "cell_type": "code",
   "execution_count": null,
   "metadata": {},
   "outputs": [],
   "source": [
    "# Add 5% quantile (\"at least this amount is present\") of the posterior distribution of estimated cell abundances,\n",
    "# to adata.obs with nice names for plotting\n",
    "# Note that 5% quantile values are used here, but mean values can also be used. \n",
    "# Both should be tried, and choose the one that produce the most meaningful plots. \n",
    "adata_vis.obs[adata_vis.uns[\"mod\"][\"factor_names\"]] = adata_vis.obsm[\n",
    "    \"q05_cell_abundance_w_sf\"\n",
    "] # adata_vis.uns[\"mod\"][\"factor_names\"] saves names of cell types"
   ]
  },
  {
   "cell_type": "markdown",
   "metadata": {},
   "source": [
    "3. Prepare for plotting spatial cell abundance"
   ]
  },
  {
   "cell_type": "code",
   "execution_count": null,
   "metadata": {},
   "outputs": [],
   "source": [
    "# Select one slide\n",
    "slide = select_slide(adata_vis, sample) # this is not necessary if there is only one sample in the AnnData"
   ]
  },
  {
   "cell_type": "code",
   "execution_count": null,
   "metadata": {},
   "outputs": [],
   "source": [
    "# Display available cell types\n",
    "cell_types = adata_vis.uns[\"mod\"][\"factor_names\"]\n",
    "print(f\"Cell types available: {cell_types}\")"
   ]
  },
  {
   "cell_type": "code",
   "execution_count": null,
   "metadata": {},
   "outputs": [],
   "source": [
    "# Select cell types to plot\n",
    "\n",
    "# select_cell_types = [\n",
    "#     \"B cells\",\n",
    "#     \"NK/NKT cells\",\n",
    "#     \"T cells\",\n",
    "#     \"BAM\",\n",
    "#     \"cDC\",\n",
    "#     \"Monocytes\",\n",
    "#     \"Neutrophils\",\n",
    "# ] # immune cell types\n",
    "\n",
    "select_cell_types = [\n",
    "    \"Endo\",\n",
    "    \"Micro-PVM\",\n",
    "] # endothelial and micro-PVM cell types"
   ]
  },
  {
   "cell_type": "markdown",
   "metadata": {},
   "source": [
    "4. Plot spatial cell abundance\n",
    "\n",
    "The color scale options are controlled by the vmax parameter of sc.pl.spatial."
   ]
  },
  {
   "cell_type": "markdown",
   "metadata": {},
   "source": [
    "Option 1: each subplot (cell types) has its own color scale"
   ]
  },
  {
   "cell_type": "code",
   "execution_count": null,
   "metadata": {},
   "outputs": [],
   "source": [
    "with mpl.rc_context({\"axes.facecolor\": \"black\", \"figure.figsize\": [4.5, 5]}):\n",
    "\n",
    "    sc.pl.spatial(\n",
    "        slide,\n",
    "        cmap=\"magma\",\n",
    "\n",
    "        # show select cell types\n",
    "        color=select_cell_types,\n",
    "\n",
    "        ncols=4, # can be customized\n",
    "        size=1.3,\n",
    "        img_key=\"hires\",\n",
    "\n",
    "        # limit color scale at 99.2% quantile of cell abundance for each indicidual cell type\n",
    "        vmin=0,\n",
    "        vmax=\"p99.2\",\n",
    "    )"
   ]
  },
  {
   "cell_type": "markdown",
   "metadata": {},
   "source": [
    "Option 2: all subplots (cell types) have the same scale, but different samples have different scales"
   ]
  },
  {
   "cell_type": "code",
   "execution_count": null,
   "metadata": {},
   "outputs": [],
   "source": [
    "# Make data frame from adata_vis.obs with cell abundance columns of select cell types\n",
    "cell_abundance = adata_vis.obs[select_cell_types]\n",
    "all_abundance_values = cell_abundance.values.flatten()\n",
    "\n",
    "# Get the 99.2% quantile of cell abundance values of select cell types\n",
    "quantile_max = np.quantile(all_abundance_values, 0.992)\n",
    "print(f\"99.2% quantile of cell abundance values of immune cells: {quantile_max}\")"
   ]
  },
  {
   "cell_type": "code",
   "execution_count": null,
   "metadata": {},
   "outputs": [],
   "source": [
    "with mpl.rc_context({\"axes.facecolor\": \"black\", \"figure.figsize\": [4.5, 5]}):\n",
    "\n",
    "    sc.pl.spatial(\n",
    "        slide,\n",
    "        cmap=\"magma\",\n",
    "\n",
    "        # show select cell types\n",
    "        color=select_cell_types,\n",
    "\n",
    "        ncols=4,\n",
    "        size=1.3,\n",
    "        img_key=\"hires\",\n",
    "\n",
    "        # limit color scale for all cell types, at 99.2% quantile of cell abundance values of all cell types\n",
    "        vmin=0,\n",
    "        vmax=quantile_max,\n",
    "    )"
   ]
  },
  {
   "cell_type": "markdown",
   "metadata": {},
   "source": [
    "Option 3: all subplots (cell types) have the same scale, and all samples have the same scale too\n",
    "\n",
    "Here, the upper limit value is set manually."
   ]
  },
  {
   "cell_type": "code",
   "execution_count": null,
   "metadata": {},
   "outputs": [],
   "source": [
    "# This value can be set at the max (or 99.2% percentile) of the cell abundance values of all cell types, of all samples.\n",
    "all_sample_max = 20"
   ]
  },
  {
   "cell_type": "code",
   "execution_count": null,
   "metadata": {},
   "outputs": [],
   "source": [
    "with mpl.rc_context({\"axes.facecolor\": \"black\", \"figure.figsize\": [4.5, 5]}):\n",
    "\n",
    "    sc.pl.spatial(\n",
    "        slide,\n",
    "        cmap=\"magma\",\n",
    "\n",
    "        # show select cell types\n",
    "        color=select_cell_types,\n",
    "\n",
    "        ncols=4,\n",
    "        size=1.3,\n",
    "        img_key=\"hires\",\n",
    "\n",
    "        # limit color scale for all cell types to a predefined value\n",
    "        vmin=0,\n",
    "        vmax=all_sample_max,\n",
    "    )"
   ]
  }
 ],
 "metadata": {
  "kernelspec": {
   "display_name": "cell2location_githubVersion_test",
   "language": "python",
   "name": "python3"
  },
  "language_info": {
   "name": "python",
   "version": "3.10.14"
  }
 },
 "nbformat": 4,
 "nbformat_minor": 2
}
