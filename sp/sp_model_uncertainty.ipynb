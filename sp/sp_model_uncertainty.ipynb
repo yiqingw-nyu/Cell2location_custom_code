{
 "cells": [
  {
   "cell_type": "markdown",
   "metadata": {},
   "source": [
    "This script aims to quantify the model's uncertainty in cell abundance estimates by calculating the difference between 5% quantile and 95% quantile of the posterior distribution of Ws,f. \n",
    "\n",
    "This strategy attempts to explain why the cell type localizations predicted by the model were not fully validated by cell markers. \n",
    "\n",
    "If the model was uncertain about its predictions, it becomes more understandable that the cell markers did not fully validate the cell type localizations predicted by the model. \n",
    "\n",
    "Please note that this script was only run on sample B1 for demonstration.\n",
    "\n",
    "**Author:** Yiqing Wang\n",
    "\n",
    "**Date:** 2024-7-31\n",
    "\n",
    "INPUT: spatially mapped Cell2location model and AnnData\n",
    "\n",
    "OUTPUT: plot that shows the 5% ~ 95% quantile range of the estimated cell abundance, separated by cell type; plot that shows the normalized-by-mean 5% ~ 95% quantile range"
   ]
  },
  {
   "cell_type": "markdown",
   "metadata": {},
   "source": [
    "1. Load AnnData"
   ]
  },
  {
   "cell_type": "code",
   "execution_count": 1,
   "metadata": {},
   "outputs": [],
   "source": [
    "import scanpy as sc\n",
    "import cell2location\n",
    "import numpy as np\n",
    "import matplotlib.pyplot as plt"
   ]
  },
  {
   "cell_type": "code",
   "execution_count": 2,
   "metadata": {},
   "outputs": [],
   "source": [
    "dir = \"path/to/data\"\n",
    "sample = \"B1\" # specify sample name\n",
    "run_name = f\"{dir}/test_results/{sample}_run_name\"\n",
    "output_dir = f\"{run_name}/other_qc\""
   ]
  },
  {
   "cell_type": "code",
   "execution_count": null,
   "metadata": {},
   "outputs": [],
   "source": [
    "# Load AnnData object\n",
    "adata_file = f\"{run_name}/sp_mapped.h5ad\"\n",
    "adata_vis = sc.read_h5ad(adata_file)\n",
    "\n",
    "# Load model\n",
    "mod = cell2location.models.Cell2location.load(f\"{run_name}\", adata_vis)"
   ]
  },
  {
   "cell_type": "markdown",
   "metadata": {},
   "source": [
    "2. Calculate the range between the 5% and the 95% quantile of the posterior distribution of estimated cell abundance, separated by cell type"
   ]
  },
  {
   "cell_type": "code",
   "execution_count": 8,
   "metadata": {},
   "outputs": [],
   "source": [
    "def plot_interquantile(model):\n",
    "    adata = model.adata\n",
    "\n",
    "    # Subtract the 5th percentile from the 95th percentile\n",
    "    # The result is a 2299 X 15 array of interquantile range values, corresponding to 2299 locations and 15 cell types.\n",
    "    interq = adata.uns[\"mod\"][\"post_sample_q95\"][\"w_sf\"] - adata.uns[\"mod\"][\"post_sample_q05\"][\"w_sf\"]\n",
    "\n",
    "    # Add the interquantile range to adata.obs, with each cell type as a column\n",
    "    # adata.uns[\"mod\"][\"factor_names\"] is cell type names. \n",
    "    # This has to be done for sc.pl.spatial to recognize the data.\n",
    "    adata.obs[adata.uns[\"mod\"][\"factor_names\"]] = interq\n",
    "\n",
    "    cell_type = adata.obs[adata.uns[\"mod\"][\"factor_names\"]]\n",
    "\n",
    "    sc.pl.spatial(\n",
    "            adata,\n",
    "            cmap=\"magma\",\n",
    "            color=cell_type,\n",
    "            ncols=4,\n",
    "            size=1.3,\n",
    "            img_key=\"hires\",\n",
    "            alpha_img=1,\n",
    "            vmin=0,\n",
    "            vmax=\"p99.2\",\n",
    "            )"
   ]
  },
  {
   "cell_type": "code",
   "execution_count": null,
   "metadata": {},
   "outputs": [],
   "source": [
    "plot_interquantile(mod)"
   ]
  },
  {
   "cell_type": "markdown",
   "metadata": {},
   "source": [
    "3. Attempt to normalize the 5% ~ 95% quantile range by dividing it by the mean of the posterior distribution of the estimated cell abundance. \n",
    "\n",
    "The rationale is that, for a posterior distribution, the range between the 5% and the 95% quantile can be bigger if the mean is bigger. Therefore, we need a way to normalized the 5% ~ 95% quantile range, so that we can compare this range across different distributions (i.e. different locations and different cell types). One attempt I made was to divide this range by the mean of the posterior distribution. \n",
    "\n",
    "The caveat of this strategy is that, when the mean is very small, the normalized range becomes very large, so the normalized value in this case would be much higher than the case where the mean is bigger. However, we only care about the spots where the mean is considerable, because those are the spots with a certain amount of estimated cell abundance for which we want to quantify uncertainty. \n",
    "\n",
    "Therefore, a better normalization approach still needs to be developed, one that perhaps excludes spots with very low mean, i.e. very low estimated cell abundance. "
   ]
  },
  {
   "cell_type": "code",
   "execution_count": 10,
   "metadata": {},
   "outputs": [],
   "source": [
    "def plot_interquantile_norm(model):\n",
    "    adata = model.adata\n",
    "\n",
    "    # Subtract the 5th percentile from the 95th percentile\n",
    "    interq = adata.uns[\"mod\"][\"post_sample_q95\"][\"w_sf\"] - adata.uns[\"mod\"][\"post_sample_q05\"][\"w_sf\"]\n",
    "\n",
    "    # Divide the range by the mean of the posterior distribution of the estimated cell abundance\n",
    "    interq_norm = interq / adata.uns[\"mod\"][\"post_sample_means\"][\"w_sf\"]\n",
    "\n",
    "    # Add the normalized interquantile range to adata.obs, with each cell type as a column\n",
    "    adata.obs[adata.uns[\"mod\"][\"factor_names\"]] = interq_norm\n",
    "\n",
    "    cell_type = adata.obs[adata.uns[\"mod\"][\"factor_names\"]]\n",
    "\n",
    "    sc.pl.spatial(\n",
    "            adata,\n",
    "            cmap=\"magma\",\n",
    "            color=cell_type,\n",
    "            ncols=4,\n",
    "            size=1.3,\n",
    "            img_key=\"hires\",\n",
    "            alpha_img=1,\n",
    "            vmin=0,\n",
    "            vmax=\"p99.2\",\n",
    "            )"
   ]
  },
  {
   "cell_type": "code",
   "execution_count": null,
   "metadata": {},
   "outputs": [],
   "source": [
    "plot_interquantile_norm(mod)"
   ]
  }
 ],
 "metadata": {
  "kernelspec": {
   "display_name": "cell2location_githubVersion_test",
   "language": "python",
   "name": "python3"
  },
  "language_info": {
   "codemirror_mode": {
    "name": "ipython",
    "version": 3
   },
   "file_extension": ".py",
   "mimetype": "text/x-python",
   "name": "python",
   "nbconvert_exporter": "python",
   "pygments_lexer": "ipython3",
   "version": "3.10.14"
  }
 },
 "nbformat": 4,
 "nbformat_minor": 2
}
