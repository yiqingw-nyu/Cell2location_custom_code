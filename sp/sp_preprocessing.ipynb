{
 "cells": [
  {
   "cell_type": "markdown",
   "metadata": {},
   "source": [
    "This script performs proprocessing by removing mitochondrial (MT) genes from the 10X Visium spatial data.\n",
    "\n",
    "**Author:** Yiqing Wang\n",
    "\n",
    "**Date:** 2024-6-18\n",
    "\n",
    "INPUT: untransformed, unnormalized spatial data\n",
    "\n",
    "OUTPUT: spatial AnnData with MT genes removed"
   ]
  },
  {
   "cell_type": "markdown",
   "metadata": {},
   "source": [
    "1. Import libraries"
   ]
  },
  {
   "cell_type": "code",
   "execution_count": null,
   "metadata": {},
   "outputs": [],
   "source": [
    "import os\n",
    "import scanpy as sc"
   ]
  },
  {
   "cell_type": "markdown",
   "metadata": {},
   "source": [
    "2. Load Visium spatial data"
   ]
  },
  {
   "cell_type": "code",
   "execution_count": null,
   "metadata": {},
   "outputs": [],
   "source": [
    "dir = \"path/to/data\"\n",
    "os.chdir(dir)\n",
    "sample = \"D1\" # sample id\n",
    "\n",
    "# Path to the spaceranger output. It has to be a folder that contains the filtered_feature_bc_matrix/ folder.\n",
    "data_folder = f\"path/to/data/spaceranger/count-{sample}/outs\" \n",
    "\n",
    "results_folder = \"./test_results/\"\n",
    "run_name = f\"{results_folder}/{sample}_run_name\""
   ]
  },
  {
   "cell_type": "code",
   "execution_count": null,
   "metadata": {},
   "outputs": [],
   "source": [
    "# Load Visium spatial data\n",
    "\n",
    "adata_vis = sc.read_visium(\n",
    "    path=f\"{data_folder}/filtered_feature_bc_matrix\",\n",
    "    library_id=sample,\n",
    "    load_images=True,\n",
    ")"
   ]
  },
  {
   "cell_type": "code",
   "execution_count": null,
   "metadata": {},
   "outputs": [],
   "source": [
    "print(f\"Number of spatial locations in Visium data: {adata_vis.shape[0]}\")\n",
    "print(f\"Number of genes in Visium data: {adata_vis.shape[1]}\")"
   ]
  },
  {
   "cell_type": "markdown",
   "metadata": {},
   "source": [
    "3. Set sample names"
   ]
  },
  {
   "cell_type": "code",
   "execution_count": null,
   "metadata": {},
   "outputs": [],
   "source": [
    "# Set the sample name (library_id)\n",
    "# I am not sure if this is necessary for subsequent steps. I will keep it for now.\n",
    "adata_vis.obs[\"sample\"] = list(adata_vis.uns[\"spatial\"].keys())[\n",
    "    0\n",
    "]  # library_id set before"
   ]
  },
  {
   "cell_type": "markdown",
   "metadata": {},
   "source": [
    "4. (Optional) Convert gene row names from gene symbols to gene ids\n",
    "\n",
    "This section is optional, depending on whether the conversion is needed for subsequent steps.\n",
    "\n",
    "For this data, this was not necessary, as the gene names in the single cell reference data were also in gene symbol format."
   ]
  },
  {
   "cell_type": "code",
   "execution_count": null,
   "metadata": {},
   "outputs": [],
   "source": [
    "adata_vis.var[\"SYMBOL\"] = adata_vis.var_names  # save gene symbols\n",
    "# Replace row names which were gene symbols to gene ids\n",
    "adata_vis.var.set_index(\n",
    "    \"gene_ids\", drop=True, inplace=True\n",
    ")  # drop: delete the column after setting it as index; inplace: modify the original object"
   ]
  },
  {
   "cell_type": "markdown",
   "metadata": {},
   "source": [
    "5. Remove mitochondrial genes (keeping their counts in the object) and save new AnnData object"
   ]
  },
  {
   "cell_type": "code",
   "execution_count": null,
   "metadata": {},
   "outputs": [],
   "source": [
    "adata_vis.var[\"mt_gene\"] = [\n",
    "    gene.startswith(\"mt-\") for gene in adata_vis.var[\"SYMBOL\"]\n",
    "]  # identify mitochondrial genes (mouse MT genes start with \"mt-\")\n",
    "\n",
    "print(f\"Number of mitochondrial genes in Visium data: {sum(adata_vis.var['mt_gene'])}\")\n",
    "\n",
    "adata_vis.obsm[\"mt\"] = adata_vis[\n",
    "    :, adata_vis.var[\"mt_gene\"].values\n",
    "].X.toarray()  # store mitochondrial counts\n",
    "adata_vis = adata_vis[:, ~adata_vis.var[\"mt_gene\"].values]  # remove mitochondrial genes\n",
    "\n",
    "print(\"mitochondrial genes removed\")\n",
    "print(\n",
    "    f\"Number of genes in Visium data after MT genes were removed: {adata_vis.shape[1]}\"\n",
    ")\n",
    "\n",
    "adata_vis.write(f\"{run_name}/adata_vis_MTremoved.h5ad\")"
   ]
  }
 ],
 "metadata": {
  "kernelspec": {
   "display_name": "cell2location_githubVersion_test",
   "language": "python",
   "name": "python3"
  },
  "language_info": {
   "name": "python",
   "version": "3.10.14"
  }
 },
 "nbformat": 4,
 "nbformat_minor": 2
}
