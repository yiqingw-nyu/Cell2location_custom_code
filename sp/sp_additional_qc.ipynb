{
 "cells": [
  {
   "cell_type": "markdown",
   "metadata": {},
   "source": [
    "This script runs the spatial_QC_across_batches() function, which shows the spatial distribution of A. total raw RNA counts, B. estimated total cell abundance, and C. estimated RNA detection sensitivity.\n",
    "\n",
    "This script also writes out the estimated cell type abundance table, for potential downstream use. \n",
    "\n",
    "**Author:** Yiqing Wang\n",
    "\n",
    "**Date:** 2024-7-30\n",
    "\n",
    "INPUT: spatially mapped AnnData and model\n",
    "\n",
    "OUTPUT: \n",
    "\n",
    "1) QC plot output by spatial_QC_across_batches()\n",
    "\n",
    "2) estimated cell type abundance table"
   ]
  },
  {
   "cell_type": "markdown",
   "metadata": {},
   "source": [
    "1. Load AnnData and model"
   ]
  },
  {
   "cell_type": "code",
   "execution_count": 1,
   "metadata": {},
   "outputs": [],
   "source": [
    "import scanpy as sc\n",
    "import cell2location\n",
    "import matplotlib.pyplot as plt\n",
    "import pandas as pd"
   ]
  },
  {
   "cell_type": "code",
   "execution_count": 2,
   "metadata": {},
   "outputs": [],
   "source": [
    "dir = \"path/to/data\"\n",
    "sample = \"C1\" # specify sample name\n",
    "run_name = f\"{dir}/test_results/{sample}_run_name\"\n",
    "output_dir = f\"{run_name}/other_qc\""
   ]
  },
  {
   "cell_type": "code",
   "execution_count": null,
   "metadata": {},
   "outputs": [],
   "source": [
    "# Load AnnData and model\n",
    "\n",
    "adata_file = f\"{run_name}/sp_mapped.h5ad\"\n",
    "adata_vis = sc.read_h5ad(adata_file)\n",
    "\n",
    "mod = cell2location.models.Cell2location.load(f\"{run_name}\", adata_vis)"
   ]
  },
  {
   "cell_type": "markdown",
   "metadata": {},
   "source": [
    "2. Run plot_spatial_QC_across_batches()"
   ]
  },
  {
   "cell_type": "code",
   "execution_count": null,
   "metadata": {},
   "outputs": [],
   "source": [
    "# Generate the QC plots\n",
    "fig = mod.plot_spatial_QC_across_batches()\n",
    "\n",
    "# Display the plot\n",
    "plt.show()\n",
    "\n",
    "# Save the plot\n",
    "# fig.savefig(f\"{output_dir}/spatial_QC_across_batches.png\")"
   ]
  },
  {
   "cell_type": "markdown",
   "metadata": {},
   "source": [
    "What this plot shows:\n",
    "\n",
    "A. Total RNA counts. Based on the source code, this is most likely raw, unnormalized total RNA counts. We can understand the source code more to make sure of this.\n",
    "\n",
    "B. Total estimated cell abundance. This is, for each location, the sum of estimated cell abundances of all cell types. Namely, this is the sum of Ws,f over f (s = location, f = cell type) (check supplementary methods for more details). \n",
    "\n",
    "C. Detection sensitivity (Ys). This is the estimated RNA detection sensitivity at each location. \n",
    "\n",
    "In theory, the total estimated cell abundance should be the result of adjucting raw total RNA counts with detection sensitivity. The distribution of total estimated cell abundance should mirror the cell density observed from histology. \n",
    "\n",
    "If there are multiple samples from different batches, you should observe similar total cell abundances across samples, but distinct detection sensitivity across samples. "
   ]
  },
  {
   "cell_type": "markdown",
   "metadata": {},
   "source": [
    "3. Write out cell type abundance table\n",
    "\n",
    "This is a table with locations as rows and cell types as columns, showing the model-estimated abundance of each cell type at each location. This table can be used to develop further downstream analyses on cell abundance values. \n",
    "\n",
    "The mean of the posterior distribution of cell abundance was used here, but 5% and 95% quantile values can also be chosen."
   ]
  },
  {
   "cell_type": "code",
   "execution_count": null,
   "metadata": {},
   "outputs": [],
   "source": [
    "# Extract mean of posterior of cell abundance\n",
    "cell_abun = adata_vis.uns[\"mod\"][\"post_sample_means\"][\"w_sf\"]\n",
    "# cell_abun = adata_vis.uns[\"mod\"][\"post_sample_q05\"][\"w_sf\"]\n",
    "cell_abun_df = pd.DataFrame(cell_abun)\n",
    "\n",
    "# Set row names to location barcodes\n",
    "cell_abun_df.index = adata_vis.obs.index\n",
    "\n",
    "# Set column names to cell types\n",
    "cell_abun_df.columns = adata_vis.uns[\"mod\"][\"factor_names\"]\n",
    "\n",
    "cell_abun_df.to_csv(f\"{run_name}/{sample}_cell_abundance_table.csv\")"
   ]
  }
 ],
 "metadata": {
  "kernelspec": {
   "display_name": "cell2location_githubVersion_test",
   "language": "python",
   "name": "python3"
  },
  "language_info": {
   "codemirror_mode": {
    "name": "ipython",
    "version": 3
   },
   "file_extension": ".py",
   "mimetype": "text/x-python",
   "name": "python",
   "nbconvert_exporter": "python",
   "pygments_lexer": "ipython3",
   "version": "3.10.14"
  }
 },
 "nbformat": 4,
 "nbformat_minor": 2
}
